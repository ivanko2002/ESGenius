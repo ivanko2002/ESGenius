{
 "cells": [
  {
   "cell_type": "code",
   "execution_count": 129,
   "metadata": {},
   "outputs": [],
   "source": [
    "import os\n",
    "import re\n",
    "import sys\n",
    "import json\n",
    "import requests\n",
    "import logging\n",
    "import traceback\n",
    "import pdfplumber\n",
    "import numpy as np\n",
    "import pandas as pd\n",
    "import logging.config\n",
    "from datetime import datetime\n",
    "from bs4 import BeautifulSoup\n",
    "from selenium import webdriver\n",
    "from selenium.webdriver.common.by import By\n",
    "from selenium.webdriver.chrome.options import Options\n",
    "from selenium.webdriver.support.ui import WebDriverWait\n",
    "from selenium.webdriver.support import expected_conditions as EC"
   ]
  },
  {
   "cell_type": "code",
   "execution_count": 130,
   "metadata": {},
   "outputs": [],
   "source": [
    "chrome_options = Options()\n",
    "chrome_options.add_experimental_option(\"prefs\", {\n",
    "    \"download.prompt_for_download\": False,\n",
    "    \"download.directory_upgrade\": True,\n",
    "    \"safebrowsing.enabled\": True\n",
    "})\n",
    "driver = webdriver.Chrome(options=chrome_options)\n",
    "from pathlib import Path\n",
    "path_to_download_folder = str(os.path.join(Path.home(), \"Downloads\"))\n",
    "cik_length = 10"
   ]
  },
  {
   "cell_type": "code",
   "execution_count": 161,
   "metadata": {},
   "outputs": [
    {
     "data": {
      "text/plain": [
       "['0001090872',\n",
       " '0000320193',\n",
       " '0001551152',\n",
       " '0001559720',\n",
       " '0000001800',\n",
       " '0000947484',\n",
       " '0001467373',\n",
       " '0000796343',\n",
       " '0000006281',\n",
       " '0000007084']"
      ]
     },
     "execution_count": 161,
     "metadata": {},
     "output_type": "execute_result"
    }
   ],
   "source": [
    "with open(r'/Users/ivan/Desktop/ESGenius/config/name_to_cik.json', 'r') as file:\n",
    "    data = json.load(file)\n",
    "\n",
    "cik_list = [entry['CIK'].zfill(10) for entry in data]\n",
    "cik_list[:10]"
   ]
  },
  {
   "cell_type": "code",
   "execution_count": 134,
   "metadata": {},
   "outputs": [],
   "source": [
    "url = f\"https://www.sec.gov/edgar/search/#/category=custom&entityName={cik_number}&forms=10-K\"\n",
    "driver.get(url)"
   ]
  },
  {
   "cell_type": "code",
   "execution_count": 137,
   "metadata": {},
   "outputs": [
    {
     "data": {
      "text/plain": [
       "['0001090872-23-000020',\n",
       " '0001090872-22-000026',\n",
       " '0001090872-21-000027',\n",
       " '0001090872-20-000020',\n",
       " '0001090872-19-000022']"
      ]
     },
     "execution_count": 137,
     "metadata": {},
     "output_type": "execute_result"
    }
   ],
   "source": [
    "tbody_html = driver.find_element(By.ID, 'results-grid').get_attribute('innerHTML')\n",
    "soup = BeautifulSoup(tbody_html, 'html.parser')\n",
    "filetype_elements = soup.select('td.filetype')\n",
    "data_adsh_list = [element.find('a')['data-adsh'] for element in filetype_elements if element.find('a')]\n",
    "data_adsh_list"
   ]
  },
  {
   "cell_type": "code",
   "execution_count": null,
   "metadata": {},
   "outputs": [],
   "source": [
    "accession_number = '0001090872-23-000020'\n",
    "accession_number.split('-')[0]\n",
    "index_key = accession_number.split('-')[0]\n",
    "accession_number_without_zeros = index_key.lstrip('0')\n",
    "accession_number_without_dashes = accession_number.replace('-', '')"
   ]
  },
  {
   "cell_type": "code",
   "execution_count": null,
   "metadata": {},
   "outputs": [],
   "source": [
    "data_file_url = f\"https://www.sec.gov/Archives/edgar/data/{accession_number_without_zeros}/{accession_number_without_dashes}/{accession_number}.txt\"\n",
    "driver.get(data_file_url)"
   ]
  },
  {
   "cell_type": "code",
   "execution_count": null,
   "metadata": {},
   "outputs": [],
   "source": [
    "body_content = driver.find_element(By.TAG_NAME, 'body').get_attribute('innerHTML')\n",
    "soup = BeautifulSoup(body_content, 'html.parser')"
   ]
  },
  {
   "cell_type": "code",
   "execution_count": 146,
   "metadata": {},
   "outputs": [
    {
     "data": {
      "text/plain": [
       "'/Users/ivan/Downloads/0001090872-23-000020.txt'"
      ]
     },
     "execution_count": 146,
     "metadata": {},
     "output_type": "execute_result"
    }
   ],
   "source": [
    "file_name = data_file_url.split(\"/\")[-1]\n",
    "download_path = os.path.join(path_to_download_folder, file_name)\n",
    "download_path"
   ]
  },
  {
   "cell_type": "code",
   "execution_count": 154,
   "metadata": {},
   "outputs": [],
   "source": [
    "with open('{}'.format(download_path), mode='wt', encoding='utf-8') as file:\n",
    "    file.write(soup.text)"
   ]
  },
  {
   "cell_type": "code",
   "execution_count": 155,
   "metadata": {},
   "outputs": [],
   "source": [
    "driver.quit()"
   ]
  }
 ],
 "metadata": {
  "kernelspec": {
   "display_name": "all",
   "language": "python",
   "name": "python3"
  },
  "language_info": {
   "codemirror_mode": {
    "name": "ipython",
    "version": 3
   },
   "file_extension": ".py",
   "mimetype": "text/x-python",
   "name": "python",
   "nbconvert_exporter": "python",
   "pygments_lexer": "ipython3",
   "version": "3.11.9"
  }
 },
 "nbformat": 4,
 "nbformat_minor": 2
}
