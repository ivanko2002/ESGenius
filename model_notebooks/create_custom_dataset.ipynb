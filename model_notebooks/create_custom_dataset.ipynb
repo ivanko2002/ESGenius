{
 "cells": [
  {
   "cell_type": "code",
   "execution_count": 11,
   "metadata": {},
   "outputs": [],
   "source": [
    "import pandas as pd"
   ]
  },
  {
   "cell_type": "code",
   "execution_count": null,
   "metadata": {},
   "outputs": [],
   "source": [
    "df = pd.read_csv(r'/Users/ivan/Downloads/esg_sasb_data.csv')\n",
    "\n",
    "df = df[df['Parent Label'] != 'Business Model & Innovation']\n",
    "\n",
    "def map_sector(parent_label):\n",
    "    if parent_label == 'Environment':\n",
    "        return 'Environment'\n",
    "    elif parent_label in ['Social Capital', 'Human Capital']:\n",
    "        return 'Social'\n",
    "    elif parent_label == 'Leadership & Governance':\n",
    "        return 'Governance'\n",
    "    else:\n",
    "        return 'Non-ESG'\n",
    "\n",
    "df['Sector'] = df['Parent Label'].apply(map_sector)\n",
    "\n",
    "df.to_csv(r'/Users/ivan/Downloads/esg_textclassification_data.csv', index=False)\n"
   ]
  }
 ],
 "metadata": {
  "kernelspec": {
   "display_name": "all",
   "language": "python",
   "name": "python3"
  },
  "language_info": {
   "codemirror_mode": {
    "name": "ipython",
    "version": 3
   },
   "file_extension": ".py",
   "mimetype": "text/x-python",
   "name": "python",
   "nbconvert_exporter": "python",
   "pygments_lexer": "ipython3",
   "version": "3.11.9"
  }
 },
 "nbformat": 4,
 "nbformat_minor": 2
}
